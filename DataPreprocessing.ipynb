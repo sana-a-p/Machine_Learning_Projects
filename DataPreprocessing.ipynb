{
 "cells": [
  {
   "cell_type": "code",
   "execution_count": 2,
   "id": "ce471665-8cf3-4b1c-ab26-5078d8f86ccc",
   "metadata": {},
   "outputs": [],
   "source": [
    "import pandas as pd\n",
    "import numpy as np\n",
    "import seaborn as sns\n",
    "import matplotlib.pyplot as plt\n",
    "from sklearn.preprocessing import OneHotEncoder,LabelEncoder,StandardScaler,MinMaxScaler"
   ]
  },
  {
   "cell_type": "code",
   "execution_count": 3,
   "id": "2bc57dac-76d0-4b8b-8b8d-f8480ae59efd",
   "metadata": {},
   "outputs": [],
   "source": [
    "df=pd.read_csv(\"Employee.csv\")"
   ]
  },
  {
   "cell_type": "code",
   "execution_count": 4,
   "id": "727af47b-aeab-4131-a538-ba34c107cfb3",
   "metadata": {},
   "outputs": [
    {
     "name": "stdout",
     "output_type": "stream",
     "text": [
      "<class 'pandas.core.frame.DataFrame'>\n",
      "RangeIndex: 148 entries, 0 to 147\n",
      "Data columns (total 6 columns):\n",
      " #   Column   Non-Null Count  Dtype  \n",
      "---  ------   --------------  -----  \n",
      " 0   Company  140 non-null    object \n",
      " 1   Age      130 non-null    float64\n",
      " 2   Salary   124 non-null    float64\n",
      " 3   Place    134 non-null    object \n",
      " 4   Country  148 non-null    object \n",
      " 5   Gender   148 non-null    int64  \n",
      "dtypes: float64(2), int64(1), object(3)\n",
      "memory usage: 7.1+ KB\n",
      "None\n"
     ]
    }
   ],
   "source": [
    "print(df.info())"
   ]
  },
  {
   "cell_type": "code",
   "execution_count": 5,
   "id": "c49eaee5-8901-46b5-9c47-6f2307f21611",
   "metadata": {},
   "outputs": [
    {
     "name": "stdout",
     "output_type": "stream",
     "text": [
      "Company: 6 unique values\n",
      "Age: 29 unique values\n",
      "Salary: 40 unique values\n",
      "Place: 11 unique values\n",
      "Country: 1 unique values\n",
      "Gender: 2 unique values\n"
     ]
    }
   ],
   "source": [
    "for col in df.columns:\n",
    "    print(f\"{col}: {df[col].nunique()} unique values\")"
   ]
  },
  {
   "cell_type": "code",
   "execution_count": 6,
   "id": "ab1d8674-6721-407f-b17a-ce16afa27da2",
   "metadata": {},
   "outputs": [
    {
     "name": "stdout",
     "output_type": "stream",
     "text": [
      "\n",
      "Statistical summary\n",
      "\n",
      "              Age       Salary      Gender\n",
      "count  130.000000   124.000000  148.000000\n",
      "mean    30.484615  5312.467742    0.222973\n",
      "std     11.096640  2573.764683    0.417654\n",
      "min      0.000000  1089.000000    0.000000\n",
      "25%     22.000000  3030.000000    0.000000\n",
      "50%     32.500000  5000.000000    0.000000\n",
      "75%     37.750000  8000.000000    0.000000\n",
      "max     54.000000  9876.000000    1.000000\n"
     ]
    }
   ],
   "source": [
    "print(\"\\nStatistical summary\\n\")\n",
    "print(df.describe())"
   ]
  },
  {
   "cell_type": "code",
   "execution_count": 7,
   "id": "f1ec467a-f32a-4670-b594-aace22d0e106",
   "metadata": {},
   "outputs": [],
   "source": [
    "df.rename(columns={'Place': 'City'}, inplace=True)"
   ]
  },
  {
   "cell_type": "code",
   "execution_count": 9,
   "id": "ce7121a4-6196-4f0f-872d-fc46ccccecf2",
   "metadata": {},
   "outputs": [],
   "source": [
    "df['Age'] = df['Age'].replace(0, np.nan)"
   ]
  },
  {
   "cell_type": "code",
   "execution_count": 10,
   "id": "dd800b9a-82be-458d-83f0-ad83e443e230",
   "metadata": {},
   "outputs": [],
   "source": [
    "df.fillna(df.median(numeric_only=True), inplace=True)"
   ]
  },
  {
   "cell_type": "code",
   "execution_count": 11,
   "id": "8f0ff524-f81e-4ea8-8a43-d37b38c979fe",
   "metadata": {},
   "outputs": [
    {
     "name": "stdout",
     "output_type": "stream",
     "text": [
      "<class 'pandas.core.frame.DataFrame'>\n",
      "RangeIndex: 148 entries, 0 to 147\n",
      "Data columns (total 6 columns):\n",
      " #   Column   Non-Null Count  Dtype  \n",
      "---  ------   --------------  -----  \n",
      " 0   Company  140 non-null    object \n",
      " 1   Age      148 non-null    float64\n",
      " 2   Salary   148 non-null    float64\n",
      " 3   City     134 non-null    object \n",
      " 4   Country  148 non-null    object \n",
      " 5   Gender   148 non-null    int64  \n",
      "dtypes: float64(2), int64(1), object(3)\n",
      "memory usage: 7.1+ KB\n",
      "None\n"
     ]
    }
   ],
   "source": [
    "print(df.info())"
   ]
  },
  {
   "cell_type": "code",
   "execution_count": 12,
   "id": "bc6cdafc-3c77-4fa8-9f18-c402d457f870",
   "metadata": {},
   "outputs": [],
   "source": [
    "df.drop_duplicates(inplace=True)"
   ]
  },
  {
   "cell_type": "code",
   "execution_count": 13,
   "id": "2a345359-dee9-4d35-8592-3ad300bc2172",
   "metadata": {},
   "outputs": [
    {
     "name": "stdout",
     "output_type": "stream",
     "text": [
      "<class 'pandas.core.frame.DataFrame'>\n",
      "Index: 144 entries, 0 to 147\n",
      "Data columns (total 6 columns):\n",
      " #   Column   Non-Null Count  Dtype  \n",
      "---  ------   --------------  -----  \n",
      " 0   Company  136 non-null    object \n",
      " 1   Age      144 non-null    float64\n",
      " 2   Salary   144 non-null    float64\n",
      " 3   City     130 non-null    object \n",
      " 4   Country  144 non-null    object \n",
      " 5   Gender   144 non-null    int64  \n",
      "dtypes: float64(2), int64(1), object(3)\n",
      "memory usage: 7.9+ KB\n",
      "None\n"
     ]
    }
   ],
   "source": [
    "print(df.info())"
   ]
  },
  {
   "cell_type": "code",
   "execution_count": 15,
   "id": "5f480cd3-8def-49b8-b9d5-e4afc13dfac7",
   "metadata": {},
   "outputs": [],
   "source": [
    "def remove_outliers(df, column):\n",
    "    Q1 = df[column].quantile(0.25)\n",
    "    Q3 = df[column].quantile(0.75)\n",
    "    IQR = Q3 - Q1\n",
    "    lower_bound = Q1 - 1.5 * IQR\n",
    "    upper_bound = Q3 + 1.5 * IQR\n",
    "    return df[(df[column] >= lower_bound) & (df[column] <= upper_bound)]\n",
    "\n",
    "df = remove_outliers(df, 'Age')\n",
    "df = remove_outliers(df, 'Salary')"
   ]
  },
  {
   "cell_type": "code",
   "execution_count": 17,
   "id": "664839ec-58ad-427e-9aa8-e4b788eaf58a",
   "metadata": {},
   "outputs": [
    {
     "name": "stdout",
     "output_type": "stream",
     "text": [
      "\n",
      "Filtered Data:\n",
      "     Company   Age  Salary       City Country  Gender\n",
      "21   Infosys  50.0  3184.0      Delhi   India       0\n",
      "32   Infosys  45.0  4034.0   Calcutta   India       0\n",
      "39   Infosys  41.0  3000.0     Mumbai   India       0\n",
      "50   Infosys  41.0  3000.0    Chennai   India       0\n",
      "57   Infosys  51.0  3184.0  Hyderabad   India       0\n",
      "68   Infosys  43.0  4034.0     Mumbai   India       0\n",
      "75   Infosys  44.0  3000.0     Cochin   India       0\n",
      "86   Infosys  41.0  3000.0      Delhi   India       0\n",
      "93   Infosys  54.0  3184.0     Mumbai   India       0\n",
      "104  Infosys  44.0  4034.0      Delhi   India       0\n",
      "122  Infosys  44.0  3234.0     Mumbai   India       0\n",
      "129  Infosys  50.0  3184.0   Calcutta   India       0\n",
      "138      CTS  44.0  3033.0     Cochin   India       0\n",
      "140  Infosys  44.0  4034.0  Hyderabad   India       0\n",
      "145  Infosys  44.0  4034.0      Delhi   India       1\n"
     ]
    }
   ],
   "source": [
    "filtered_df = df[(df['Age'] > 40) & (df['Salary'] < 5000)]\n",
    "print(\"\\nFiltered Data:\")\n",
    "print(filtered_df)"
   ]
  },
  {
   "cell_type": "code",
   "execution_count": 19,
   "id": "35da78cc-361d-4737-8479-7a3383e90797",
   "metadata": {},
   "outputs": [
    {
     "data": {
      "image/png": "[encoded data removed]",
      "text/plain": [
       "<Figure size 800x500 with 1 Axes>"
      ]
     },
     "metadata": {},
     "output_type": "display_data"
    }
   ],
   "source": [
    "plt.figure(figsize=(8,5))\n",
    "sns.scatterplot(x=df['Age'], y=df['Salary'])\n",
    "plt.xlabel('Age')\n",
    "plt.ylabel('Salary')\n",
    "plt.title('Age vs Salary Distribution')\n",
    "plt.show()"
   ]
  },
  {
   "cell_type": "code",
   "execution_count": 23,
   "id": "a6a5b4e9-a347-43cd-8c84-b32b90d10628",
   "metadata": {},
   "outputs": [
    {
     "data": {
      "image/png": "[encoded data removed]",
      "text/plain": [
       "<Figure size 800x500 with 1 Axes>"
      ]
     },
     "metadata": {},
     "output_type": "display_data"
    }
   ],
   "source": [
    "plt.figure(figsize=(8,5))\n",
    "sns.countplot(y=df['City'])\n",
    "plt.title('Count of People from Each City')\n",
    "plt.show()"
   ]
  },
  {
   "cell_type": "code",
   "execution_count": 26,
   "id": "e5b91454-488e-4995-bf67-d9d7439d555f",
   "metadata": {},
   "outputs": [],
   "source": [
    "categorical_cols = ['Gender', 'City']  \n",
    "encoder = OneHotEncoder()\n",
    "df_encoded = pd.get_dummies(df, columns=categorical_cols)"
   ]
  },
  {
   "cell_type": "code",
   "execution_count": 29,
   "id": "aa167911-3111-43bb-a312-2576bdef64e3",
   "metadata": {},
   "outputs": [
    {
     "name": "stdout",
     "output_type": "stream",
     "text": [
      "\n",
      "Preprocessed Data:\n",
      "   Company       Age    Salary Country  Gender_0  Gender_1  City_Bhopal  \\\n",
      "0      TCS -1.484676 -0.100827   India      True     False        False   \n",
      "1  Infosys -0.267174 -0.100827   India      True     False        False   \n",
      "2      TCS  0.341577 -1.243735   India      True     False        False   \n",
      "3  Infosys  0.950328 -0.947426   India      True     False        False   \n",
      "4      TCS -1.119426 -0.524127   India      True     False        False   \n",
      "\n",
      "   City_Calcutta  City_Chennai  City_Cochin  City_Delhi  City_Hyderabad  \\\n",
      "0          False          True        False       False           False   \n",
      "1          False         False        False       False           False   \n",
      "2           True         False        False       False           False   \n",
      "3          False         False        False        True           False   \n",
      "4          False         False        False       False           False   \n",
      "\n",
      "   City_Mumbai  City_Nagpur  City_Noida  City_Podicherry  City_Pune  \n",
      "0        False        False       False            False      False  \n",
      "1         True        False       False            False      False  \n",
      "2        False        False       False            False      False  \n",
      "3        False        False       False            False      False  \n",
      "4         True        False       False            False      False  \n"
     ]
    }
   ],
   "source": [
    "numeric_cols = df_encoded.select_dtypes(include=[np.number]).columns\n",
    "scaler_standard = StandardScaler()\n",
    "df_scaled = df_encoded.copy()\n",
    "df_scaled[numeric_cols] = scaler_standard.fit_transform(df_encoded[numeric_cols])\n",
    "scaler_minmax = MinMaxScaler()\n",
    "df_minmax_scaled = df_encoded.copy()\n",
    "df_minmax_scaled[numeric_cols] = scaler_minmax.fit_transform(df_encoded[numeric_cols])\n",
    "\n",
    "print(\"\\nPreprocessed Data:\")\n",
    "print(df_scaled.head())"
   ]
  },
  {
   "cell_type": "code",
   "execution_count": null,
   "id": "d6db3b95-1a43-49b7-9fc8-26f32e171957",
   "metadata": {},
   "outputs": [],
   "source": []
  }
 ],
 "metadata": {
  "kernelspec": {
   "display_name": "Python 3 (ipykernel)",
   "language": "python",
   "name": "python3"
  },
  "language_info": {
   "codemirror_mode": {
    "name": "ipython",
    "version": 3
   },
   "file_extension": ".py",
   "mimetype": "text/x-python",
   "name": "python",
   "nbconvert_exporter": "python",
   "pygments_lexer": "ipython3",
   "version": "3.12.0"
  }
 },
 "nbformat": 4,
 "nbformat_minor": 5
}

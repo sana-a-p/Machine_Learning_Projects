{
 "cells": [
  {
   "cell_type": "markdown",
   "id": "a03dac6e-004b-4a24-b426-19b8f27a3379",
   "metadata": {},
   "source": [
    "child psychologist problem"
   ]
  },
  {
   "cell_type": "markdown",
   "id": "3a823da5-c21d-43e6-a550-010614a08720",
   "metadata": {},
   "source": [
    "Suppose a child psychologist says that the average time that working mothers spend talking\n",
    "to their children is at-least 11 minutes per day. You want to test\n",
    "You conduct a random sample of 1000 working mothers and find they spend an average of 11.5\n",
    "minutes per day talking with their children. Assume prior research suggests the population\n",
    "standard deviation is 2.3 minutes.\n",
    "Conduct test with a level of significance of alpha=0.05"
   ]
  },
  {
   "cell_type": "code",
   "execution_count": 5,
   "id": "11805283-4f6e-4b24-ae4a-55512cd56393",
   "metadata": {},
   "outputs": [],
   "source": [
    "import scipy.stats as stats\n",
    "mu_0 = 11 \n",
    "x_bar = 11.5 \n",
    "sigma = 2.3 \n",
    "n = 1000 \n",
    "alpha = 0.05\n",
    "z_score = (x_bar - mu_0) / (sigma / (n ** 0.5))"
   ]
  },
  {
   "cell_type": "code",
   "execution_count": 6,
   "id": "7d27130b-a904-47fc-94cf-29e90786eefa",
   "metadata": {},
   "outputs": [
    {
     "name": "stdout",
     "output_type": "stream",
     "text": [
      "Z-score: 6.8745\n",
      "P-value: 1.000000\n"
     ]
    }
   ],
   "source": [
    "# Compute p-value for a left-tailed test\n",
    "p_value = stats.norm.cdf(z_score)\n",
    "print(f\"Z-score: {z_score:.4f}\")\n",
    "print(f\"P-value: {p_value:.6f}\")"
   ]
  },
  {
   "cell_type": "code",
   "execution_count": 7,
   "id": "79cd8865-381d-46b4-97ff-6ba51341c9ca",
   "metadata": {},
   "outputs": [
    {
     "name": "stdout",
     "output_type": "stream",
     "text": [
      "Fail to reject the null hypothesis: There is not enough evidence to conclude mothers spend less than 11 minutes talking to their children.\n"
     ]
    }
   ],
   "source": [
    "if p_value < alpha:\n",
    "    print(\"Reject the null hypothesis: Mothers spend less than 11 minutes talking to their children.\")\n",
    "else:\n",
    "    print(\"Fail to reject the null hypothesis: There is not enough evidence to conclude mothers spend less than 11 minutes talking to their children.\")"
   ]
  },
  {
   "cell_type": "markdown",
   "id": "ccb66eed-1b57-44d4-b215-86098988833f",
   "metadata": {},
   "source": [
    "coffee shop problem"
   ]
  },
  {
   "cell_type": "markdown",
   "id": "8c5cfe5f-f39f-43f8-a915-f5042f060f06",
   "metadata": {},
   "source": [
    "A coffee shop claims that their average wait time for customers is less than 5\n",
    "minutes. To test this claim, a sample of 40 customers is taken, and their wait times are recorded.\n",
    "The sample mean wait time is found to be 4.6 minutes with a standard deviation of 0.8 minutes.\n",
    "Perform a hypothesis test at a significance level of 0.05 and determine whether there is enough\n",
    "evidence to support the coffee shop's claim."
   ]
  },
  {
   "cell_type": "code",
   "execution_count": 8,
   "id": "eea48f4d-6271-4cf1-af95-87c79e8c86cb",
   "metadata": {},
   "outputs": [],
   "source": [
    "mu_0=5\n",
    "n=40\n",
    "s=0.8\n",
    "x_bar=4.6\n",
    "alpha=0.05\n",
    "t_score=(x_bar-mu_0)/(s/(n**0.5))"
   ]
  },
  {
   "cell_type": "code",
   "execution_count": 11,
   "id": "0ea481da-8d6f-47d6-a283-5469000981dc",
   "metadata": {},
   "outputs": [
    {
     "name": "stdout",
     "output_type": "stream",
     "text": [
      "T-score:-3.1623\n",
      "p value: 0.001514\n"
     ]
    }
   ],
   "source": [
    "p_value=stats.t.cdf(t_score,df=n-1)\n",
    "print(f\"T-score:{t_score:.4f}\")\n",
    "print(f\"p value: {p_value:.6f}\")"
   ]
  },
  {
   "cell_type": "code",
   "execution_count": 13,
   "id": "a0338086-cf6e-4986-8877-a56614cf7ee0",
   "metadata": {},
   "outputs": [
    {
     "name": "stdout",
     "output_type": "stream",
     "text": [
      "Reject the null hypothesis: There is enough evidence to support the coffee shop's claim that the average wait time is less than 5 minutes.\n"
     ]
    }
   ],
   "source": [
    "if p_value<alpha:\n",
    "     print(\"Reject the null hypothesis: There is enough evidence to support the coffee shop's claim that the average wait time is less than 5 minutes.\")\n",
    "else:\n",
    "    print(\"Fail to reject the null hypothesis: There is not enough evidence to support the coffee shop's claim.\")\n",
    "    "
   ]
  },
  {
   "cell_type": "code",
   "execution_count": null,
   "id": "3d887da8-68c1-4d8e-bced-59490f2b0153",
   "metadata": {},
   "outputs": [],
   "source": []
  }
 ],
 "metadata": {
  "kernelspec": {
   "display_name": "Python 3 (ipykernel)",
   "language": "python",
   "name": "python3"
  },
  "language_info": {
   "codemirror_mode": {
    "name": "ipython",
    "version": 3
   },
   "file_extension": ".py",
   "mimetype": "text/x-python",
   "name": "python",
   "nbconvert_exporter": "python",
   "pygments_lexer": "ipython3",
   "version": "3.12.0"
  }
 },
 "nbformat": 4,
 "nbformat_minor": 5
}
